{
 "cells": [
  {
   "cell_type": "code",
   "execution_count": 3,
   "id": "21ed609d",
   "metadata": {},
   "outputs": [],
   "source": [
    "import pandas as pd\n",
    "import numpy as np\n",
    "import seaborn as sns\n",
    "import matplotlib.pyplot as plt\n",
    "from sklearn.model_selection import train_test_split\n",
    "from sklearn.model_selection import StratifiedKFold\n",
    "from sklearn.model_selection import GridSearchCV\n",
    "#from xgboost import XGBClassifier\n",
    "from sklearn import metrics\n",
    "from datetime import datetime, timedelta\n",
    "from sklearn.metrics import roc_auc_score, classification_report,confusion_matrix,ConfusionMatrixDisplay\n",
    "from sklearn.preprocessing import StandardScaler \n",
    "from sklearn.neighbors import KNeighborsClassifier\n",
    "from sklearn.ensemble import RandomForestClassifier\n",
    "from sklearn.svm import SVC\n",
    "from imblearn.over_sampling import SMOTE"
   ]
  },
  {
   "cell_type": "markdown",
   "id": "376def7d",
   "metadata": {},
   "source": [
    "# 3.1 - Understand the Industry"
   ]
  },
  {
   "cell_type": "markdown",
   "id": "b69f6b41",
   "metadata": {},
   "source": [
    "## 1. Explain the money flow and the information flow in the acquirer market and the role of the main players."
   ]
  },
  {
   "cell_type": "markdown",
   "id": "117fb22d",
   "metadata": {},
   "source": [
    "O fluxo de dinheiro no mercado de adquirência é o seguinte: Basicamente, um cliente chega em sua loja, faz uma compra utilizando seu cartão e, na hora de pagar, a maquininha da adquirente envia os dados do pedido de compra para a “bandeira” do cartão, solicitando que a transação seja autorizada. A bandeira, por sua vez, envia uma mensagem para o banco emissor do cartão, verificando se a autorização poderá ser aceita ou não. Durante essa verificação será feita a análise da senha digitada pelo cliente, e também se existe saldo ou crédito suficiente para transação. Caso não haja problemas, o banco emissor dará permissão para a bandeira, autorizando o pagamento do cliente. Após isso,  Quando a compra é autorizada, a adquirente envia as informações da transferência novamente à bandeira do cartão, que a envia ao banco, e esse repassa o valor da transação para a empresa adquirente, que fica  responsável por receber o dinheiro do banco e repassar ao comerciante no prazo combinado. "
   ]
  },
  {
   "cell_type": "markdown",
   "id": "a0cd26d6",
   "metadata": {},
   "source": [
    "* <font size=\"3\">  Fluxo de informação: Informação da compra do cliente -> Empresa adquirente -> Bandeira do cartão/Banco -> Informação da permissão para a adquirente -> Compra aprovada (Adquirente) -> Bandeira cartão/banco.\n",
    "\n",
    "Após o banco receber a confirmação da transferência, o fluxo do dinheiro é:\n",
    "\n",
    "* <font size=\"3\">  Banco -> Adquirente -> comerciante (prazo estipulado pelo contrato)."
   ]
  },
  {
   "cell_type": "markdown",
   "id": "a683ed13",
   "metadata": {},
   "source": [
    "## 2. Explain the difference between acquirer, sub-acquirer and payment gateway and how the flow explained in question 1 changes for these players."
   ]
  },
  {
   "cell_type": "markdown",
   "id": "e4e2ec7b",
   "metadata": {},
   "source": [
    "* Um Acquirer é uma empresa responsável por liquidar as transações financeiras por meio de cartão de crétido e débito. Empresas adquirentes, também chamadas de credenciadores, são as responsáveis pelo processamento das operações de cartão de crédito e débito. Sua principal função é criar um canal de comunicação rápido e seguro entre sua loja e o banco para checar os dados do consumidor e validar a compra.\n",
    "\n",
    "* A subadquirente é uma empresa responsável por intermediar os pagamentos entre a loja e a adquirente. Ela é habilitada pelas adquirentes para realizar a conexão entre os clientes, os lojistas, bandeiras e bancos emissores. Uma das diferenças da adquirente é que ela consegue apresentar uma solução mais completa que uma adquirente, com anti-fraude e com burocracias menores do que se o lojista quiser se conectar diretamente com a adquirente, diminuindo ou até removendo a necessidade da relação do lojista e de um banco.\n",
    "\n",
    "* O Gateway é uma ferramenta que pode ser considerada como um terminal de cartão de crédito para e-commerce. Da mesma forma que as maquininhas de cartão são para as lojas físicas. Os gateways são uma especie de HUB de funcionalidades, plataformas que são responsáveis por te conectar com todos os outros players, como empresas especializadas em anti-fraude , multi meios de pagamentos, etc. Uma loja de e-commerce, por exemplo, pode oferecer o serviço de todos os adquirentes sem precisar negociar com cada um deles, ou ter que integrar sua tecnologia com cada um deles. Eles processam informações para cobrança, as criptografam e enviam para as adquirentes fazer o serviço, após isso, o gateway repassa a confirmação para a loja.\n",
    "\n",
    "Principais diferenças:\n",
    "\n",
    "A empresa adquirente é responsável por criar um canal de comunicação rápido e seguro entre a loja onde está sendo efetuada a compra e o banco para checar os dados do consumidor e validar a compra, como explicado no item 1. Já a subadquirente, é uma empresa considerada intermediadora do meio de pagamento, ela irá intermediar a compra entre o lojista e a empresa adquirente. Em relação a uma empresa adquirente, a subadquirente consegue ser contratada de forma menos burocrática, consegue oferecer um pacote maior de funcionalidades, como por exemplo, anti fraude, algo que se o lojista quiser obter e utilizar uma empresa adquirente, ele terá que contratar a parte. Já o gateway, é utilizado em sites de vendas online, ele fornece uma intermediação entre o consumidor, o banco e as bandeiras de cartão. Com ele, é possível conectar o seu negócio a diferentes adquirentes (como se fossem as _'maquininhas de cartão'_ digitais) e manter centralizada toda a operação de pagamentos do seu negócio.\n",
    "\n",
    "\n",
    "A diferença no fluxo de informação apresentados no item 1 quando estamos falando da utilização de uma subadquirente no lugar de uma adquirente é que, a subadquirente entrará no meio do fluxo entre o lojista e a adquirente, e será a responsável por passar as informações da compra para a adquirente e, depois da compra aprovada, realizar o pagamento ao lojista, como se fosse um passo a mais\" no fluxo explicado anteriormente. Já o gateway, funciona como um intermediador de pagamento online, recebendo a informação da compra e passando para a empresa adquirente ou subadquirente de contrato do lojista, que, por sua vez, seguirá o fluxo explicado anteriormente, até o pagamento por parte da adquirente ou subadquirente contratada pelo comércio."
   ]
  },
  {
   "cell_type": "markdown",
   "id": "beae485e",
   "metadata": {},
   "source": [
    "* <font size=\"3\">  Diferenças: \n",
    "    * <font size=\"3\">  Subadquirente: \n",
    "        * Uma \"etapa a mais\" no fluxo de informação na relação entre o lojista e a adquirente;\n",
    "        * Menos burocracia na contratação do lojista;\n",
    "        * Pacote maior de funcionalidades (por exemplo, antifraude);\n",
    "        * Taxas maiores do que se o lojista contratar uma adquirente;\n",
    "        * Está presente no fluxo de informação e de dinheiro.\n",
    "    * <font size=\"3\">  Gateway:\n",
    "       * É um terminal de compra por cartão para ecommerce;\n",
    "       * Processa as compras no checkout do site, criptografa a transação e envia para a adquirente;\n",
    "       * Fornece tudo que o cliente precisa no site do ecommerce;\n",
    "       * Oferece antifraude separadamente;\n",
    "       * Está presente apenas no envio de informação para a adquirente (ou subadquirente) contratada pelo lojista, não participa do fluxo de dinheiro.\n",
    "        \n",
    "        "
   ]
  },
  {
   "cell_type": "markdown",
   "id": "be588c93",
   "metadata": {},
   "source": [
    "## 3. Explain what chargebacks are, how they differ from cancellations and what is their connection with fraud in the acquiring world."
   ]
  },
  {
   "cell_type": "markdown",
   "id": "84e88494",
   "metadata": {},
   "source": [
    "O chargeback é a cobrança indevida. Acontece quando a pessoa vê a cobrança em seu cartão, mas não foi ela quem realizou a compra, ou em alguns casos, ela realizou a compra com o próprio cartão e pediu cancelamento pro banco. Nesse caso, o cliente vai ao banco contestar, e a instituição financeira cancela a transação.\n",
    "\n",
    "Já o cancelamento é quando o cliente pede o cancelamento da compra junto à loja em que ele efetuou a compra, por algum motivo, devolvendo o produto de forma amigável, seja por defeito ou arrependimento.\n",
    "\n",
    "Os chargebacks, em sua maioria, são realizados por causa de cartões clonados que são utilizados por fraudadores em compras, e estas são canceladas pelo dono real do cartão junto à instituição financeira. Neste caso, se configura uma fraude, e o banco, então, entra em contato com o adquirente que processou o pagamento para o comércio em questão com a ajuda da bandeira, que aciona a empresa envolvida, informando-a sobre o chargeback e cobrando a quantia que deve ser devolvida ao consumidor.\n"
   ]
  },
  {
   "cell_type": "markdown",
   "id": "66dfcf2e",
   "metadata": {},
   "source": [
    "# 3.2 - Get your hands dirty"
   ]
  },
  {
   "cell_type": "markdown",
   "id": "ff3415ab",
   "metadata": {},
   "source": [
    "## 1. Analyze the data provided and present your conclusions (consider that all transactions are made using a mobile device)."
   ]
  },
  {
   "cell_type": "code",
   "execution_count": 4,
   "id": "523c9847",
   "metadata": {},
   "outputs": [
    {
     "name": "stdout",
     "output_type": "stream",
     "text": [
      "(3199, 8)\n"
     ]
    }
   ],
   "source": [
    "dados = pd.read_csv('transactional-sample.csv')\n",
    "print(dados.shape)"
   ]
  },
  {
   "cell_type": "code",
   "execution_count": 5,
   "id": "fa65d6a0",
   "metadata": {},
   "outputs": [
    {
     "data": {
      "text/html": [
       "<div>\n",
       "<style scoped>\n",
       "    .dataframe tbody tr th:only-of-type {\n",
       "        vertical-align: middle;\n",
       "    }\n",
       "\n",
       "    .dataframe tbody tr th {\n",
       "        vertical-align: top;\n",
       "    }\n",
       "\n",
       "    .dataframe thead th {\n",
       "        text-align: right;\n",
       "    }\n",
       "</style>\n",
       "<table border=\"1\" class=\"dataframe\">\n",
       "  <thead>\n",
       "    <tr style=\"text-align: right;\">\n",
       "      <th></th>\n",
       "      <th>transaction_id</th>\n",
       "      <th>merchant_id</th>\n",
       "      <th>user_id</th>\n",
       "      <th>card_number</th>\n",
       "      <th>transaction_date</th>\n",
       "      <th>transaction_amount</th>\n",
       "      <th>device_id</th>\n",
       "      <th>has_cbk</th>\n",
       "    </tr>\n",
       "  </thead>\n",
       "  <tbody>\n",
       "    <tr>\n",
       "      <th>0</th>\n",
       "      <td>21320398</td>\n",
       "      <td>29744</td>\n",
       "      <td>97051</td>\n",
       "      <td>434505******9116</td>\n",
       "      <td>2019-12-01T23:16:32.812632</td>\n",
       "      <td>374.56</td>\n",
       "      <td>285475.0</td>\n",
       "      <td>False</td>\n",
       "    </tr>\n",
       "    <tr>\n",
       "      <th>1</th>\n",
       "      <td>21320399</td>\n",
       "      <td>92895</td>\n",
       "      <td>2708</td>\n",
       "      <td>444456******4210</td>\n",
       "      <td>2019-12-01T22:45:37.873639</td>\n",
       "      <td>734.87</td>\n",
       "      <td>497105.0</td>\n",
       "      <td>True</td>\n",
       "    </tr>\n",
       "    <tr>\n",
       "      <th>2</th>\n",
       "      <td>21320400</td>\n",
       "      <td>47759</td>\n",
       "      <td>14777</td>\n",
       "      <td>425850******7024</td>\n",
       "      <td>2019-12-01T22:22:43.021495</td>\n",
       "      <td>760.36</td>\n",
       "      <td>NaN</td>\n",
       "      <td>False</td>\n",
       "    </tr>\n",
       "    <tr>\n",
       "      <th>3</th>\n",
       "      <td>21320401</td>\n",
       "      <td>68657</td>\n",
       "      <td>69758</td>\n",
       "      <td>464296******3991</td>\n",
       "      <td>2019-12-01T21:59:19.797129</td>\n",
       "      <td>2556.13</td>\n",
       "      <td>NaN</td>\n",
       "      <td>True</td>\n",
       "    </tr>\n",
       "    <tr>\n",
       "      <th>4</th>\n",
       "      <td>21320402</td>\n",
       "      <td>54075</td>\n",
       "      <td>64367</td>\n",
       "      <td>650487******6116</td>\n",
       "      <td>2019-12-01T21:30:53.347051</td>\n",
       "      <td>55.36</td>\n",
       "      <td>860232.0</td>\n",
       "      <td>False</td>\n",
       "    </tr>\n",
       "    <tr>\n",
       "      <th>5</th>\n",
       "      <td>21320403</td>\n",
       "      <td>59566</td>\n",
       "      <td>40759</td>\n",
       "      <td>516292******8220</td>\n",
       "      <td>2019-12-01T21:25:53.374213</td>\n",
       "      <td>60.49</td>\n",
       "      <td>192705.0</td>\n",
       "      <td>False</td>\n",
       "    </tr>\n",
       "    <tr>\n",
       "      <th>6</th>\n",
       "      <td>21320404</td>\n",
       "      <td>20917</td>\n",
       "      <td>25661</td>\n",
       "      <td>650485******9310</td>\n",
       "      <td>2019-12-01T21:25:19.532243</td>\n",
       "      <td>318.37</td>\n",
       "      <td>760932.0</td>\n",
       "      <td>False</td>\n",
       "    </tr>\n",
       "    <tr>\n",
       "      <th>7</th>\n",
       "      <td>21320405</td>\n",
       "      <td>56107</td>\n",
       "      <td>81152</td>\n",
       "      <td>650516******9201</td>\n",
       "      <td>2019-12-01T21:24:05.608374</td>\n",
       "      <td>188.68</td>\n",
       "      <td>486.0</td>\n",
       "      <td>True</td>\n",
       "    </tr>\n",
       "    <tr>\n",
       "      <th>8</th>\n",
       "      <td>21320406</td>\n",
       "      <td>56107</td>\n",
       "      <td>81152</td>\n",
       "      <td>650516******9201</td>\n",
       "      <td>2019-12-01T21:13:21.529999</td>\n",
       "      <td>352.77</td>\n",
       "      <td>486.0</td>\n",
       "      <td>True</td>\n",
       "    </tr>\n",
       "    <tr>\n",
       "      <th>9</th>\n",
       "      <td>21320407</td>\n",
       "      <td>56107</td>\n",
       "      <td>81152</td>\n",
       "      <td>650516******9201</td>\n",
       "      <td>2019-12-01T21:04:55.066909</td>\n",
       "      <td>345.68</td>\n",
       "      <td>486.0</td>\n",
       "      <td>True</td>\n",
       "    </tr>\n",
       "  </tbody>\n",
       "</table>\n",
       "</div>"
      ],
      "text/plain": [
       "   transaction_id  merchant_id  user_id       card_number  \\\n",
       "0        21320398        29744    97051  434505******9116   \n",
       "1        21320399        92895     2708  444456******4210   \n",
       "2        21320400        47759    14777  425850******7024   \n",
       "3        21320401        68657    69758  464296******3991   \n",
       "4        21320402        54075    64367  650487******6116   \n",
       "5        21320403        59566    40759  516292******8220   \n",
       "6        21320404        20917    25661  650485******9310   \n",
       "7        21320405        56107    81152  650516******9201   \n",
       "8        21320406        56107    81152  650516******9201   \n",
       "9        21320407        56107    81152  650516******9201   \n",
       "\n",
       "             transaction_date  transaction_amount  device_id  has_cbk  \n",
       "0  2019-12-01T23:16:32.812632              374.56   285475.0    False  \n",
       "1  2019-12-01T22:45:37.873639              734.87   497105.0     True  \n",
       "2  2019-12-01T22:22:43.021495              760.36        NaN    False  \n",
       "3  2019-12-01T21:59:19.797129             2556.13        NaN     True  \n",
       "4  2019-12-01T21:30:53.347051               55.36   860232.0    False  \n",
       "5  2019-12-01T21:25:53.374213               60.49   192705.0    False  \n",
       "6  2019-12-01T21:25:19.532243              318.37   760932.0    False  \n",
       "7  2019-12-01T21:24:05.608374              188.68      486.0     True  \n",
       "8  2019-12-01T21:13:21.529999              352.77      486.0     True  \n",
       "9  2019-12-01T21:04:55.066909              345.68      486.0     True  "
      ]
     },
     "execution_count": 5,
     "metadata": {},
     "output_type": "execute_result"
    }
   ],
   "source": [
    "dados.head(10)"
   ]
  },
  {
   "cell_type": "markdown",
   "id": "99c9e45a",
   "metadata": {},
   "source": [
    "## Checando valores faltantes nos dados"
   ]
  },
  {
   "cell_type": "code",
   "execution_count": 6,
   "id": "16011faf",
   "metadata": {},
   "outputs": [
    {
     "data": {
      "text/plain": [
       "device_id             0.259456\n",
       "transaction_id        0.000000\n",
       "merchant_id           0.000000\n",
       "user_id               0.000000\n",
       "card_number           0.000000\n",
       "transaction_date      0.000000\n",
       "transaction_amount    0.000000\n",
       "has_cbk               0.000000\n",
       "dtype: float64"
      ]
     },
     "execution_count": 6,
     "metadata": {},
     "output_type": "execute_result"
    }
   ],
   "source": [
    "dados.isnull().mean().sort_values(ascending = False)"
   ]
  },
  {
   "cell_type": "markdown",
   "id": "54de231e",
   "metadata": {},
   "source": [
    "Há valores faltantes apenas na variável _device_id_, da forma que eu a utilizarei na solução do problema, estes valores faltantes não serão um problema. "
   ]
  },
  {
   "cell_type": "markdown",
   "id": "1c7e7a02",
   "metadata": {},
   "source": [
    "##  Eliminando variável do ID da transação."
   ]
  },
  {
   "cell_type": "code",
   "execution_count": 7,
   "id": "d6795524",
   "metadata": {},
   "outputs": [],
   "source": [
    "dados = dados.drop('transaction_id',axis = 1)"
   ]
  },
  {
   "cell_type": "markdown",
   "id": "0c786346",
   "metadata": {},
   "source": [
    "##  Passando variável _'transaction_date'_ para o tipo data."
   ]
  },
  {
   "cell_type": "code",
   "execution_count": 8,
   "id": "eccfb467",
   "metadata": {},
   "outputs": [
    {
     "data": {
      "text/plain": [
       "pandas._libs.tslibs.timestamps.Timestamp"
      ]
     },
     "execution_count": 8,
     "metadata": {},
     "output_type": "execute_result"
    }
   ],
   "source": [
    "dados['transaction_date'] = pd.to_datetime(dados['transaction_date'], format='%Y-%m-%dT%H:%M:%S.%f')\n",
    "type(dados['transaction_date'][0])"
   ]
  },
  {
   "cell_type": "markdown",
   "id": "b312247b",
   "metadata": {},
   "source": [
    "## Transformação das variáveis"
   ]
  },
  {
   "cell_type": "code",
   "execution_count": 9,
   "id": "22b36e88",
   "metadata": {},
   "outputs": [],
   "source": [
    "dados = dados.fillna(0)\n",
    "dados = dados.astype({'device_id': 'int'})"
   ]
  },
  {
   "cell_type": "markdown",
   "id": "0c09e87f",
   "metadata": {},
   "source": [
    "# Análise descritiva."
   ]
  },
  {
   "cell_type": "markdown",
   "id": "547171ea",
   "metadata": {},
   "source": [
    "## Verificando desbalanceamento da variável resposta."
   ]
  },
  {
   "cell_type": "code",
   "execution_count": 17,
   "id": "b2268266",
   "metadata": {},
   "outputs": [
    {
     "data": {
      "image/png": "[encoded data removed]",
      "text/plain": [
       "<Figure size 360x360 with 1 Axes>"
      ]
     },
     "metadata": {
      "needs_background": "light"
     },
     "output_type": "display_data"
    },
    {
     "name": "stdout",
     "output_type": "stream",
     "text": [
      "False    2808\n",
      "True      391\n",
      "Name: has_cbk, dtype: int64\n"
     ]
    }
   ],
   "source": [
    "x,y = 'index', 'has_cbk'\n",
    "\n",
    "df1 = dados[y].value_counts(normalize=True)\n",
    "df1 = df1.mul(100)\n",
    "df1 = df1.rename('percent').reset_index()\n",
    "\n",
    "g = sns.catplot(x=x,y='percent',kind='bar',data=df1)\n",
    "g.ax.set_ylim(0,90)\n",
    "\n",
    "for p in g.ax.patches:\n",
    "    txt = str(p.get_height().round(2)) + '%'\n",
    "    txt_x = p.get_x() \n",
    "    txt_y = p.get_height()\n",
    "    g.ax.text(txt_x,txt_y,txt)\n",
    "    \n",
    "plt.title(\"Distribuição da resposta - 'has_cbk'\")\n",
    "plt.xlabel(\"has_cbk\")\n",
    "plt.ylabel(\"Proporção\")\n",
    "plt.show()\n",
    "chargeback_ratio = dados['has_cbk'].value_counts()\n",
    "print(chargeback_ratio)\n",
    "chargeback_ratio = chargeback_ratio[1] / chargeback_ratio.sum()"
   ]
  },
  {
   "cell_type": "markdown",
   "id": "3ea138dd",
   "metadata": {},
   "source": [
    "Temos uma boa diferença em relação a valores verdadeiros e falsos, o que já era esperado devido ao tipo do problema."
   ]
  },
  {
   "cell_type": "markdown",
   "id": "0d14fb53",
   "metadata": {},
   "source": [
    "##  Variável _'transaction_amount'_"
   ]
  },
  {
   "cell_type": "code",
   "execution_count": 8,
   "id": "59a606e6",
   "metadata": {},
   "outputs": [
    {
     "data": {
      "text/plain": [
       "count    3199.000000\n",
       "mean      767.812904\n",
       "std       889.095904\n",
       "min         1.220000\n",
       "25%       205.235000\n",
       "50%       415.940000\n",
       "75%       981.680000\n",
       "max      4097.210000\n",
       "Name: transaction_amount, dtype: float64"
      ]
     },
     "execution_count": 8,
     "metadata": {},
     "output_type": "execute_result"
    }
   ],
   "source": [
    "dados['transaction_amount'].describe()"
   ]
  },
  {
   "cell_type": "code",
   "execution_count": 19,
   "id": "ca1e1b82",
   "metadata": {},
   "outputs": [
    {
     "data": {
      "text/plain": [
       "<AxesSubplot:xlabel='transaction_amount', ylabel='Count'>"
      ]
     },
     "execution_count": 19,
     "metadata": {},
     "output_type": "execute_result"
    },
    {
     "data": {
      "image/png": "[encoded data removed]",
      "text/plain": [
       "<Figure size 432x288 with 1 Axes>"
      ]
     },
     "metadata": {
      "needs_background": "light"
     },
     "output_type": "display_data"
    }
   ],
   "source": [
    "sns.histplot(dados['transaction_amount'])"
   ]
  },
  {
   "cell_type": "markdown",
   "id": "3ceaf822",
   "metadata": {},
   "source": [
    "* Temos uma distribuição assimétrica positiva, com sua maior parte dos valores concentrados em valores abaixo de 1000."
   ]
  },
  {
   "cell_type": "markdown",
   "id": "177d3e9e",
   "metadata": {},
   "source": [
    "### Relação variável _'transaction_amount'_ com a variável resposta."
   ]
  },
  {
   "cell_type": "code",
   "execution_count": 20,
   "id": "cee39430",
   "metadata": {},
   "outputs": [
    {
     "data": {
      "image/png": "[encoded data removed]",
      "text/plain": [
       "<Figure size 432x288 with 1 Axes>"
      ]
     },
     "metadata": {
      "needs_background": "light"
     },
     "output_type": "display_data"
    }
   ],
   "source": [
    "sns.boxplot(x = dados[\"has_cbk\"], y = dados['transaction_amount'])\n",
    "plt.title(\"Box Plot para a variável transaction_amount\")\n",
    "plt.show()"
   ]
  },
  {
   "cell_type": "markdown",
   "id": "b424dfbd",
   "metadata": {},
   "source": [
    "* A distribuição da variável _transaction_amount_ em relação à transaçoes fraudulentas possui valores maiores do que para as transações não fraudulentas."
   ]
  },
  {
   "cell_type": "code",
   "execution_count": 21,
   "id": "75e32237",
   "metadata": {},
   "outputs": [
    {
     "data": {
      "image/png": "[encoded data removed]",
      "text/plain": [
       "<Figure size 576x576 with 2 Axes>"
      ]
     },
     "metadata": {
      "needs_background": "light"
     },
     "output_type": "display_data"
    }
   ],
   "source": [
    "fig, ax = plt.subplots(2, figsize=(8,8))\n",
    "dados.loc[dados[\"has_cbk\"] == 0][\"transaction_amount\"].hist(bins=30, ax=ax[0],edgecolor='black')\n",
    "dados.loc[dados[\"has_cbk\"] == 1][\"transaction_amount\"].hist(bins=30, ax=ax[1],edgecolor='black')\n",
    "ax[0].title.set_text(\"Não fraude\")\n",
    "ax[1].title.set_text(\"Fraude\")\n",
    "plt.subplots_adjust(hspace=0.3)"
   ]
  },
  {
   "cell_type": "markdown",
   "id": "6ec0aeed",
   "metadata": {},
   "source": [
    "Temos uma grande diferença na distribuição das observações considerando cada variável resposta. Transações que não são fraude tendem a possuir valores concentrados abaixo de 1000, com alguns poucos mais altos. Já transações que são fraude possuem uma distribuição muito mais dispersa e sem padrão."
   ]
  },
  {
   "cell_type": "markdown",
   "id": "8409c9bb",
   "metadata": {},
   "source": [
    "##  Variável _'transaction_date'_"
   ]
  },
  {
   "cell_type": "code",
   "execution_count": 31,
   "id": "fa674b8c",
   "metadata": {},
   "outputs": [
    {
     "name": "stdout",
     "output_type": "stream",
     "text": [
      "Observação mais antiga da base de dados:  2019-11-01 01:27:15.811098\n",
      "Observação mais recente da base de dados:  2019-12-01 23:16:32.812632\n"
     ]
    }
   ],
   "source": [
    "print(\"Observação mais antiga da base de dados: \", min(dados['transaction_date']))\n",
    "print(\"Observação mais recente da base de dados: \", max(dados['transaction_date']))   "
   ]
  },
  {
   "cell_type": "markdown",
   "id": "22c61cdc",
   "metadata": {},
   "source": [
    "A base possui dados de transações no período de um mês, indo do início de novembro de 2019 ao início de dezembro de 2019"
   ]
  },
  {
   "cell_type": "markdown",
   "id": "c6b45c07",
   "metadata": {},
   "source": [
    "### Relação variável 'transaction_date' com a variável resposta."
   ]
  },
  {
   "cell_type": "markdown",
   "id": "3e331c0e",
   "metadata": {},
   "source": [
    "### Hora"
   ]
  },
  {
   "cell_type": "code",
   "execution_count": 10,
   "id": "34302676",
   "metadata": {},
   "outputs": [],
   "source": [
    "dados['transaction_date_hour'] = dados['transaction_date'].dt.hour #Criando uma variável numérica só com as horas."
   ]
  },
  {
   "cell_type": "code",
   "execution_count": 23,
   "id": "76128cf9",
   "metadata": {},
   "outputs": [
    {
     "data": {
      "image/png": "[encoded data removed]",
      "text/plain": [
       "<Figure size 576x576 with 2 Axes>"
      ]
     },
     "metadata": {
      "needs_background": "light"
     },
     "output_type": "display_data"
    }
   ],
   "source": [
    "fig, ax = plt.subplots(2, figsize=(8,8))\n",
    "for a in ax:\n",
    "    a.set_xticks(range(24))\n",
    "dados.loc[dados[\"has_cbk\"] == 0][\"transaction_date_hour\"].hist(bins=np.arange(24)-0.5, ax=ax[0], grid=False,edgecolor='black')\n",
    "dados.loc[dados[\"has_cbk\"] == 1][\"transaction_date_hour\"].hist(bins=np.arange(24)-0.5, ax=ax[1], grid=False,edgecolor='black')\n",
    "ax[0].title.set_text(\"Não fraude\")\n",
    "ax[1].title.set_text(\"Fraude\")\n",
    "plt.subplots_adjust(hspace=0.3)"
   ]
  },
  {
   "cell_type": "markdown",
   "id": "7fc8113c",
   "metadata": {},
   "source": [
    "Podemos ver que o pico de transação fraudulenta ocorre entre 19:00h e 22:00h. Já em relação as transações legítimas, há um pico de transações muito mais suave, entre as 14:00h e 20:00h."
   ]
  },
  {
   "cell_type": "markdown",
   "id": "5ef6a081",
   "metadata": {},
   "source": [
    "### Dia do mês"
   ]
  },
  {
   "cell_type": "code",
   "execution_count": 11,
   "id": "ce5f0fd5",
   "metadata": {},
   "outputs": [],
   "source": [
    "dados['transaction_month_day'] = dados['transaction_date'].dt.day #Criando uma variável numérica com os dias do mês."
   ]
  },
  {
   "cell_type": "code",
   "execution_count": 32,
   "id": "c95be09b",
   "metadata": {},
   "outputs": [
    {
     "data": {
      "image/png": "[encoded data removed]",
      "text/plain": [
       "<Figure size 576x576 with 2 Axes>"
      ]
     },
     "metadata": {
      "needs_background": "light"
     },
     "output_type": "display_data"
    }
   ],
   "source": [
    "fig, ax = plt.subplots(2, figsize=(8,8))\n",
    "for a in ax:\n",
    "    a.set_xticks(range(31))\n",
    "dados.loc[dados[\"has_cbk\"] == 0]['transaction_month_day'].hist(bins=np.arange(31)-0.5, ax=ax[0], grid=False,edgecolor='black')\n",
    "dados.loc[dados[\"has_cbk\"] == 1]['transaction_month_day'].hist(bins=np.arange(31)-0.5, ax=ax[1], grid=False,edgecolor='black')\n",
    "ax[0].title.set_text(\"Não fraude\")\n",
    "ax[1].title.set_text(\"Fraude\")\n",
    "plt.subplots_adjust(hspace=0.3)"
   ]
  },
  {
   "cell_type": "markdown",
   "id": "65cf57a1",
   "metadata": {},
   "source": [
    "Dada a granularidade da informação (dias do mês) e o fato de não termos muitos dados, a figura acima não nos fornece nenhuma informação relevante."
   ]
  },
  {
   "cell_type": "markdown",
   "id": "40b71e5d",
   "metadata": {},
   "source": [
    "### Dia da semana."
   ]
  },
  {
   "cell_type": "code",
   "execution_count": 12,
   "id": "e3ee0cf9",
   "metadata": {},
   "outputs": [],
   "source": [
    "dados['transaction_week_day'] = dados['transaction_date'].dt.dayofweek   #Criando uma variável numérica só com os respectivos dias da semana.\n",
    "#0 é segunda, 1 é terça e assim por diante."
   ]
  },
  {
   "cell_type": "code",
   "execution_count": 13,
   "id": "ce6d5ef8",
   "metadata": {},
   "outputs": [
    {
     "data": {
      "image/png": "[encoded data removed]",
      "text/plain": [
       "<Figure size 576x576 with 2 Axes>"
      ]
     },
     "metadata": {
      "needs_background": "light"
     },
     "output_type": "display_data"
    }
   ],
   "source": [
    "fig, ax = plt.subplots(2, figsize=(8,8))\n",
    "for a in ax:\n",
    "    a.set_xticks(range(8))\n",
    "dados.loc[dados[\"has_cbk\"] == 0]['transaction_week_day'].hist(bins=np.arange(8)-0.5, ax=ax[0], grid=False,edgecolor='black')\n",
    "dados.loc[dados[\"has_cbk\"] == 1]['transaction_week_day'].hist(bins=np.arange(8)-0.5, ax=ax[1], grid=False,edgecolor='black')\n",
    "ax[0].title.set_text(\"Não fraude\")\n",
    "ax[1].title.set_text(\"Fraude\")\n",
    "plt.subplots_adjust(hspace=0.3)"
   ]
  },
  {
   "cell_type": "markdown",
   "id": "f43c0bd3",
   "metadata": {},
   "source": [
    "Vemos uma diferença na distribuição da variável respectiva ao número de fraude, indicando que nos primeiros dias da semana, temos um número de fraudes menor do que de transações verdadeiras."
   ]
  },
  {
   "cell_type": "markdown",
   "id": "64a7c26d",
   "metadata": {},
   "source": [
    "## Variáveis ID's e cartão de crédito."
   ]
  },
  {
   "cell_type": "markdown",
   "id": "789ab63b",
   "metadata": {},
   "source": [
    "#### Antifraud Requirements:\n",
    "* Reject transaction if user is trying too many transactions in a row;\n",
    "* Reject transactions above a certain amount in a given period;\n",
    "* Reject transaction if a user had a chargeback before (note that this information does not comes on the payload. The chargeback data is received days after the transaction was approved)\n",
    "\n",
    "Após pensar no problema e de acordo com os requerimentos do sistema anti-fraude listados acima, estas variáveis serão variáveis elegíveis para a parte rule-based da minha solução, enquanto que as variáveis _transaction_date_hour_ e _transaction_amount_, serão utilizadas em uma abordagem de machine-learning.\n",
    "\n",
    "Sendo assim, como um dos requerimentos é bloquear uma transação de um usuário se ele já realizou um chargeback antes, eu vou querer saber se as variáveis _device_id_, '_card_number_' e '_merchant_id_' possuem características semelhantes à variável _user_id_, pois se sim, posso incluí-las na parte rule-based do meu detector de fraude."
   ]
  },
  {
   "cell_type": "markdown",
   "id": "05be3a62",
   "metadata": {},
   "source": [
    "### Proporção de valores únicos que aparecem tanto em transações fraudulentas como não fraudulentas."
   ]
  },
  {
   "cell_type": "code",
   "execution_count": 14,
   "id": "76aca21f",
   "metadata": {},
   "outputs": [],
   "source": [
    "dados_true = dados.loc[dados['has_cbk'] == True,:]\n",
    "dados_false = dados.loc[dados['has_cbk'] == False,:]"
   ]
  },
  {
   "cell_type": "code",
   "execution_count": 114,
   "id": "17e4a75c",
   "metadata": {},
   "outputs": [],
   "source": [
    "def prop(variavel,dados_false,dados_true):\n",
    "    unq = list(pd.unique(dados_true[variavel])) #Extraindo valores únicos da coluna da variável do conjunto só de fraudes\n",
    "    lst = list(pd.unique(dados_false[variavel])) #Extraindo valores únicos da coluna da variável do conjunto só de legítimas\n",
    "    nos_dois = []\n",
    "    for i in unq: #para cada valor na lista de valores únicos do conjunto de fraude\n",
    "        if i in lst: #se o valor estiver na lista de valores únicos de transações legítimas,\n",
    "            nos_dois.append(i) #Adiciono esse valor na lista.\n",
    "    return print(100*round(len(nos_dois)/len(unq),4),'%') #Retorno a porcentagem de valores que estão tanto no conjunto \n",
    "                                                          #só de fraudes como no conjunto só de legítimas."
   ]
  },
  {
   "cell_type": "markdown",
   "id": "b14feac3",
   "metadata": {},
   "source": [
    "#### _'user_id'_"
   ]
  },
  {
   "cell_type": "code",
   "execution_count": 148,
   "id": "53c31540",
   "metadata": {},
   "outputs": [
    {
     "name": "stdout",
     "output_type": "stream",
     "text": [
      "21.57 %\n"
     ]
    }
   ],
   "source": [
    "prop(variavel = 'user_id',dados_false = dados_false,dados_true = dados_true)"
   ]
  },
  {
   "cell_type": "markdown",
   "id": "989d4e07",
   "metadata": {},
   "source": [
    "#### _'device_id'_"
   ]
  },
  {
   "cell_type": "code",
   "execution_count": 132,
   "id": "95934550",
   "metadata": {},
   "outputs": [
    {
     "name": "stdout",
     "output_type": "stream",
     "text": [
      "20.77 %\n"
     ]
    }
   ],
   "source": [
    "prop(variavel = 'device_id',dados_false = dados_false,dados_true = dados_true)"
   ]
  },
  {
   "cell_type": "markdown",
   "id": "defa3092",
   "metadata": {},
   "source": [
    "#### _'card_number'_"
   ]
  },
  {
   "cell_type": "code",
   "execution_count": 146,
   "id": "a220752e",
   "metadata": {},
   "outputs": [
    {
     "name": "stdout",
     "output_type": "stream",
     "text": [
      "2.55 %\n"
     ]
    }
   ],
   "source": [
    "prop(variavel = 'card_number',dados_false = dados_false,dados_true = dados_true)"
   ]
  },
  {
   "cell_type": "markdown",
   "id": "76ee6024",
   "metadata": {},
   "source": [
    "#### _'merchant_id'_"
   ]
  },
  {
   "cell_type": "code",
   "execution_count": 147,
   "id": "5613406b",
   "metadata": {},
   "outputs": [
    {
     "name": "stdout",
     "output_type": "stream",
     "text": [
      "44.07 %\n"
     ]
    }
   ],
   "source": [
    "prop(variavel = 'merchant_id',dados_false = dados_false,dados_true = dados_true)"
   ]
  },
  {
   "cell_type": "markdown",
   "id": "9b3a9e08",
   "metadata": {},
   "source": [
    "A variável _'user_id'_, possui 21.74% de suas observações que são fraude também em observações que não são fraude. Ou seja, 21.57% dos usuários que já foram responsáveis por uma transação fraude, também foram responsáveis por pelo menos uma transação não fraudulenta. \n",
    "\n",
    "As variáveis _'device_id'_ e _'card_number'_ possuem essa porcentagem menor, sendo a _'card_number'_ a menor de todas. O que me faz decidir utilizar essas variáveis como decisivas na hora de detectar se uma transação será fraude ou não, da mesma maneira que a variável _'user_id'_ será utilizada. Já para a variável _'merchant_id'_, levando em conta a lógica e meu entendimento do negócio e também por ela possuir uma porcentagem muito maior que a variável _'user_id'_, não a utilizarei desta maneira."
   ]
  },
  {
   "cell_type": "markdown",
   "id": "3a8eb48e",
   "metadata": {},
   "source": [
    "### Relação valores faltantes da variável _'device_id'_ com variável resposta."
   ]
  },
  {
   "cell_type": "code",
   "execution_count": 115,
   "id": "e3403d1a",
   "metadata": {},
   "outputs": [
    {
     "name": "stdout",
     "output_type": "stream",
     "text": [
      "Poporção de valores faltantes dos dados só de transações legítimas:  0.27172364672364674\n"
     ]
    }
   ],
   "source": [
    "print('Poporção de valores faltantes dos dados só de transações legítimas: ',dados_false['device_id'].isnull().mean())"
   ]
  },
  {
   "cell_type": "code",
   "execution_count": 116,
   "id": "24ed2203",
   "metadata": {},
   "outputs": [
    {
     "name": "stdout",
     "output_type": "stream",
     "text": [
      "Poporção de valores faltantes dos dados só de transações fraude:  0.17135549872122763\n"
     ]
    }
   ],
   "source": [
    "print('Poporção de valores faltantes dos dados só de transações fraude: ',dados_true['device_id'].isnull().mean())"
   ]
  },
  {
   "cell_type": "markdown",
   "id": "797a524b",
   "metadata": {},
   "source": [
    "Não temos uma relação significativa para utilizar este tipo de informação"
   ]
  },
  {
   "cell_type": "markdown",
   "id": "7d95f322",
   "metadata": {},
   "source": [
    "## Principais conclusões"
   ]
  },
  {
   "cell_type": "markdown",
   "id": "0f9c7258",
   "metadata": {},
   "source": [
    "* Pico de transações fraudulentas é entre 19:00h e 22:00h;\n",
    "* A maior parte das transações não fraudulentas ocorrem a um valor abaixo de 100;\n",
    "* A maior parte das transações acontecem na quinta-feira, sexta-feira e sábado;\n",
    "* Sem um padrão em relação ao valor da transação para as compras que são fraude;\n",
    "* Número de vezes que um cartão de crédito e que um dispositivo específico é detectado tanto em transações fraudulentas como não fraudulentas é menor que o de usuários específicos, o que indica que estas variáveis podem discriminar uma transação fraude tão bem quanto o id do usuário.\n",
    "\n",
    "\n",
    "\n"
   ]
  },
  {
   "cell_type": "markdown",
   "id": "0ede86b6",
   "metadata": {},
   "source": [
    "## 2. In addition to the spreadsheet data, what other data would you look at to try to find patterns of possible frauds?"
   ]
  },
  {
   "cell_type": "markdown",
   "id": "bf22a3d5",
   "metadata": {},
   "source": [
    "* IP em que o dispositivo estava conectado na hora da compra:\n",
    "* Variáveis baseadas em geolocalização, como distância de onde a compra foi feita ao endereço cadastrado do usuário:\n",
    "* Informação prévia do perfil de compra do usuário, que pode ser útil para identificar uma transação fraude.\n"
   ]
  },
  {
   "cell_type": "markdown",
   "id": "7521de5f",
   "metadata": {},
   "source": [
    "# 3.3 - Solve the problem"
   ]
  },
  {
   "cell_type": "markdown",
   "id": "f6f9a9da",
   "metadata": {},
   "source": [
    "## Machine Learning"
   ]
  },
  {
   "cell_type": "markdown",
   "id": "ef3286cb",
   "metadata": {},
   "source": [
    "### Divisão conjunto de dados em treino/validação e teste."
   ]
  },
  {
   "cell_type": "code",
   "execution_count": 17,
   "id": "c8f15d18",
   "metadata": {},
   "outputs": [],
   "source": [
    "trainDF, testDF = train_test_split(dados.loc[:,['transaction_amount','transaction_date_hour','transaction_week_day',\n",
    "                                                'transaction_month_day','has_cbk']], test_size=0.20, random_state=42, stratify=dados[['has_cbk']])"
   ]
  },
  {
   "cell_type": "code",
   "execution_count": 18,
   "id": "f35f4a41",
   "metadata": {},
   "outputs": [],
   "source": [
    "X_train = np.array(trainDF.iloc[:,:-1])\n",
    "y_train = np.array(trainDF.iloc[:,-1])\n",
    "y_train = np.multiply(y_train, 1)\n",
    "X_test = np.array(testDF.iloc[:,:-1])\n",
    "y_test = np.array(testDF.iloc[:,-1])\n",
    "y_test = np.multiply(y_test, 1)"
   ]
  },
  {
   "cell_type": "markdown",
   "id": "595ece1e",
   "metadata": {},
   "source": [
    "## Classificação sem método balanceamento dos dados."
   ]
  },
  {
   "cell_type": "markdown",
   "id": "f186b634",
   "metadata": {},
   "source": [
    "Primeiramente, vou avaliar alguns modelos estatísticos sem utilizar nenhuma técnica de resempling para balanceamento dos dados, apenas utilizando o hiperparâmetro _'class_weight'_ na busca de melhores parâmetros, cabendo a validação cruzada decidir se este método de lidar com balanceamento produz ou não melhores resultados quando comparado ao modelo sem ele."
   ]
  },
  {
   "cell_type": "code",
   "execution_count": 500,
   "id": "f7f5d352",
   "metadata": {},
   "outputs": [],
   "source": [
    "def classification_nested_crossvalidation(X, y,n_folds,k_folds,model,hp_grid,scale):\n",
    "    # Definindo as pastas de validação externas\n",
    "    cv_outer = StratifiedKFold(n_folds, shuffle=True)\n",
    "    vacc = list()\n",
    "    # CV loop externo\n",
    "    for train_out, test_out in cv_outer.split(X,y):\n",
    "        train_x, train_y = X[train_out], y[train_out]\n",
    "        test_x, test_y = X[test_out], y[test_out]\n",
    "        if scale == True:                \n",
    "            scaler = StandardScaler().fit(train_x)\n",
    "            train_x_transformed = scaler.transform(train_x)\n",
    "            test_x_transformed = scaler.transform(test_x)\n",
    "            #CV interno (training and validation sets)\n",
    "            grid_search_cv = GridSearchCV(model, hp_grid, cv=k_folds, refit=True,scoring=\"roc_auc\",n_jobs =-1)\n",
    "            # Achando os melhores hiperparâmetros\n",
    "            result = grid_search_cv.fit(train_x_transformed, train_y)\n",
    "            best_model = result.best_estimator_\n",
    "            # Predizendo no conjunto de validação\n",
    "            pred_y = best_model.predict(test_x_transformed)            \n",
    "            vacc.append(roc_auc_score(test_y, pred_y))\n",
    "        else:\n",
    "            #CV interno (training and validation sets)\n",
    "            grid_search_cv = GridSearchCV(model, hp_grid, cv=k_folds, refit=True,scoring=\"roc_auc\",n_jobs =-1)\n",
    "            # Achando os melhores hiperparâmetros\n",
    "            result = grid_search_cv.fit(train_x, train_y)\n",
    "            best_model = result.best_estimator_\n",
    "            # Predizendo no conjunto de validação\n",
    "            pred_y = best_model.predict(test_x)            \n",
    "            vacc.append(roc_auc_score(test_y, pred_y))\n",
    "    return print(\"Média das AUC's das folds de validação: \",np.mean(vacc),\n",
    "                 \"Desvio padrão das AUC's das folds de validação: \", np.std(vacc))"
   ]
  },
  {
   "cell_type": "markdown",
   "id": "ecd2fc19",
   "metadata": {},
   "source": [
    "#### Random Forest"
   ]
  },
  {
   "cell_type": "code",
   "execution_count": 53,
   "id": "3d322cf5",
   "metadata": {},
   "outputs": [],
   "source": [
    "params_RF = {'n_estimators': [50, 150, 250],\n",
    "            'max_features': ['sqrt', 0.25, 0.5, 0.75, 1.0],\n",
    "            'min_samples_split': [2, 4, 6],\n",
    "            'class_weight': [None, 'balanced']}\n",
    "\n",
    "model_RF = RandomForestClassifier(n_jobs =-1)"
   ]
  },
  {
   "cell_type": "code",
   "execution_count": 54,
   "id": "0a82fb8a",
   "metadata": {},
   "outputs": [
    {
     "name": "stdout",
     "output_type": "stream",
     "text": [
      "Média das AUC's das folds de validação:  0.6374433243727599 Desvio padrão das AUC's das folds de validação:  0.043991177267334466\n"
     ]
    }
   ],
   "source": [
    "classification_nested_crossvalidation(X=X_train,y=y_train,n_folds=5,k_folds=3, model=model_RF,hp_grid=params_RF,scale = False)"
   ]
  },
  {
   "cell_type": "markdown",
   "id": "f76799e6",
   "metadata": {},
   "source": [
    "### XGboost"
   ]
  },
  {
   "cell_type": "code",
   "execution_count": 501,
   "id": "a95a589f",
   "metadata": {},
   "outputs": [],
   "source": [
    "params_XGB = {\n",
    "        \"gamma\":[0.5, 1, 1.5, 2, 5],\n",
    "        \"max_depth\":[3,4,5,6],\n",
    "        \"min_child_weight\": [100],\n",
    "        \"subsample\": [0.6, 0.8, 1.0],\n",
    "        \"colsample_bytree\": [0.6, 0.8, 1.0],\n",
    "        \"learning_rate\": [0.1, 0.01, 0.001],\n",
    "    }\n",
    "model_XGB = XGBClassifier(eval_metric=\"auc\",use_label_encoder=False,n_jobs =-1)"
   ]
  },
  {
   "cell_type": "code",
   "execution_count": 502,
   "id": "4f760524",
   "metadata": {},
   "outputs": [
    {
     "name": "stdout",
     "output_type": "stream",
     "text": [
      "Média das AUC's das folds de validação:  0.5 Desvio padrão das AUC's das folds de validação:  0.0\n"
     ]
    }
   ],
   "source": [
    "classification_nested_crossvalidation(X=X_train,y=y_train,n_folds=5,k_folds=2, model=model_XGB,hp_grid=params_XGB,scale = False)"
   ]
  },
  {
   "cell_type": "markdown",
   "id": "f36e1ba6",
   "metadata": {},
   "source": [
    "### KNN"
   ]
  },
  {
   "cell_type": "code",
   "execution_count": 503,
   "id": "528432d5",
   "metadata": {},
   "outputs": [],
   "source": [
    "params_KNN = {\n",
    "        \"n_neighbors\":[3,5,7,10,15,20,25,30,100],\n",
    "        \"weights\":['uniform','distance'],\n",
    "        \"metric\": ['euclidean','manhattan','minkowski','chebyshev'],\n",
    "    }\n",
    "model_KNN = KNeighborsClassifier()"
   ]
  },
  {
   "cell_type": "code",
   "execution_count": 504,
   "id": "59b9ac72",
   "metadata": {},
   "outputs": [
    {
     "name": "stdout",
     "output_type": "stream",
     "text": [
      "Média das AUC's das folds de validação:  0.5302500772610694 Desvio padrão das AUC's das folds de validação:  0.011141195453011319\n"
     ]
    }
   ],
   "source": [
    "classification_nested_crossvalidation(X=X_train,y=y_train,n_folds=5,k_folds=2, model=model_KNN,hp_grid=params_KNN,scale = True)"
   ]
  },
  {
   "cell_type": "markdown",
   "id": "76746214",
   "metadata": {},
   "source": [
    "## Classificação com método balanceamento dos dados (SMOTE)."
   ]
  },
  {
   "cell_type": "code",
   "execution_count": 19,
   "id": "f8543ad6",
   "metadata": {},
   "outputs": [],
   "source": [
    "X_train_smote, y_train_smote = SMOTE(random_state=1234).fit_resample(X_train, y_train)"
   ]
  },
  {
   "cell_type": "code",
   "execution_count": 20,
   "id": "eac14346",
   "metadata": {},
   "outputs": [],
   "source": [
    "df_SMOTE = pd.DataFrame(X_train_smote, columns = ['transaction_amount','transaction_date_hour','transaction_week_day',\n",
    "                                                'transaction_month_day',])\n",
    "df_SMOTE['has_cbk'] = y_train_smote"
   ]
  },
  {
   "cell_type": "code",
   "execution_count": 21,
   "id": "c32dd20a",
   "metadata": {},
   "outputs": [
    {
     "data": {
      "image/png": "[encoded data removed]",
      "text/plain": [
       "<Figure size 360x360 with 1 Axes>"
      ]
     },
     "metadata": {
      "needs_background": "light"
     },
     "output_type": "display_data"
    },
    {
     "name": "stdout",
     "output_type": "stream",
     "text": [
      "0    2246\n",
      "1    2246\n",
      "Name: has_cbk, dtype: int64\n"
     ]
    }
   ],
   "source": [
    "x,y = 'index', 'has_cbk'\n",
    "\n",
    "df1 = df_SMOTE[y].value_counts(normalize=True)\n",
    "df1 = df1.mul(100)\n",
    "df1 = df1.rename('percent').reset_index()\n",
    "\n",
    "g = sns.catplot(x=x,y='percent',kind='bar',data=df1)\n",
    "g.ax.set_ylim(0,90)\n",
    "\n",
    "for p in g.ax.patches:\n",
    "    txt = str(p.get_height().round(2)) + '%'\n",
    "    txt_x = p.get_x() \n",
    "    txt_y = p.get_height()\n",
    "    g.ax.text(txt_x,txt_y,txt)\n",
    "    \n",
    "plt.title(\"Distribuição da resposta - 'has_cbk'\")\n",
    "plt.xlabel(\"has_cbk\")\n",
    "plt.ylabel(\"Proporção\")\n",
    "plt.show()\n",
    "chargeback_ratio = df_SMOTE['has_cbk'].value_counts()\n",
    "print(chargeback_ratio)\n",
    "chargeback_ratio = chargeback_ratio[1] / chargeback_ratio.sum()"
   ]
  },
  {
   "cell_type": "markdown",
   "id": "69abf205",
   "metadata": {},
   "source": [
    "#### Random Forest"
   ]
  },
  {
   "cell_type": "code",
   "execution_count": 508,
   "id": "6f26b813",
   "metadata": {},
   "outputs": [],
   "source": [
    "params_RF = {'n_estimators': [50, 150, 250],\n",
    "            'max_features': ['sqrt', 0.25, 0.5, 0.75, 1.0],\n",
    "            'min_samples_split': [2, 4, 6],\n",
    "            'class_weight': [None, 'balanced']}\n",
    "\n",
    "model_RF = RandomForestClassifier(n_jobs =-1)"
   ]
  },
  {
   "cell_type": "code",
   "execution_count": 514,
   "id": "ccabf867",
   "metadata": {},
   "outputs": [
    {
     "name": "stdout",
     "output_type": "stream",
     "text": [
      "Média das AUC's das folds de validação:  0.9222996031746031 Desvio padrão das AUC's das folds de validação:  0.01480650278502158\n"
     ]
    }
   ],
   "source": [
    "classification_nested_crossvalidation(X=X_train_smote,y=y_train_smote,n_folds=10,k_folds=5, model=model_RF,hp_grid=params_RF,scale = False)"
   ]
  },
  {
   "cell_type": "markdown",
   "id": "9cb005db",
   "metadata": {},
   "source": [
    "### XGboost"
   ]
  },
  {
   "cell_type": "code",
   "execution_count": 510,
   "id": "0d5e2f87",
   "metadata": {},
   "outputs": [],
   "source": [
    "params_XGB = {\n",
    "        \"gamma\":[0.5, 1, 1.5, 2, 5],\n",
    "        \"max_depth\":[3,4,5,6],\n",
    "        \"min_child_weight\": [100],\n",
    "        \"subsample\": [0.6, 0.8, 1.0],\n",
    "        \"colsample_bytree\": [0.6, 0.8, 1.0],\n",
    "        \"learning_rate\": [0.1, 0.01, 0.001],\n",
    "    }\n",
    "model_XGB = XGBClassifier(eval_metric=\"auc\",use_label_encoder=False,n_jobs =-1)"
   ]
  },
  {
   "cell_type": "code",
   "execution_count": 511,
   "id": "c9309b6a",
   "metadata": {},
   "outputs": [
    {
     "name": "stdout",
     "output_type": "stream",
     "text": [
      "Média das AUC's das folds de validação:  0.8203449641177928 Desvio padrão das AUC's das folds de validação:  0.01537927919946505\n"
     ]
    }
   ],
   "source": [
    "classification_nested_crossvalidation(X=X_train_smote,y=y_train_smote,n_folds=5,k_folds=3, model=model_XGB,hp_grid=params_XGB,scale = False)"
   ]
  },
  {
   "cell_type": "markdown",
   "id": "a99f429e",
   "metadata": {},
   "source": [
    "### KNN"
   ]
  },
  {
   "cell_type": "code",
   "execution_count": 512,
   "id": "6670b904",
   "metadata": {},
   "outputs": [],
   "source": [
    "params_KNN = {\n",
    "        \"n_neighbors\":[3,5,7,10,15,20,25,30],\n",
    "        \"weights\":['uniform','distance'],\n",
    "        \"metric\": ['euclidean','manhattan','minkowski','chebyshev'],\n",
    "    }\n",
    "model_KNN = KNeighborsClassifier()"
   ]
  },
  {
   "cell_type": "code",
   "execution_count": 513,
   "id": "f678dbea",
   "metadata": {},
   "outputs": [
    {
     "name": "stdout",
     "output_type": "stream",
     "text": [
      "Média das AUC's das folds de validação:  0.8693254145013609 Desvio padrão das AUC's das folds de validação:  0.00555472461129147\n"
     ]
    }
   ],
   "source": [
    "classification_nested_crossvalidation(X=X_train_smote,y=y_train_smote,n_folds=5,k_folds=3, model=model_KNN,hp_grid=params_KNN,scale = True)"
   ]
  },
  {
   "cell_type": "markdown",
   "id": "3c5c617a",
   "metadata": {},
   "source": [
    "Temos que a melhor AUC obtida foi utilizando o modelo Random Forest, então, este modelo será o utilizado para seguirmos com a parte de Machine-Learning."
   ]
  },
  {
   "cell_type": "markdown",
   "id": "ecb433bd",
   "metadata": {},
   "source": [
    "## Avaliação modelo final."
   ]
  },
  {
   "cell_type": "markdown",
   "id": "3a4d4a30",
   "metadata": {},
   "source": [
    "##### Vamos então utilizar o algorítmo de Ensamble Random Forests nos dados balanceados para realizar a classificação dos nossos dados."
   ]
  },
  {
   "cell_type": "markdown",
   "id": "9490ff85",
   "metadata": {},
   "source": [
    "Encontrando melhores hiperparâmetros para os dados de treino."
   ]
  },
  {
   "cell_type": "code",
   "execution_count": 515,
   "id": "697cbc08",
   "metadata": {},
   "outputs": [],
   "source": [
    "params_RF = {'n_estimators': [50, 150, 250],\n",
    "            'max_features': ['sqrt', 0.25, 0.5, 0.75, 1.0],\n",
    "            'min_samples_split': [2, 4, 6],\n",
    "            'class_weight': [None, 'balanced']}\n",
    "\n",
    "model_RF = RandomForestClassifier(n_jobs=-1)"
   ]
  },
  {
   "cell_type": "code",
   "execution_count": 516,
   "id": "a6119be9",
   "metadata": {},
   "outputs": [
    {
     "data": {
      "text/plain": [
       "RandomForestClassifier(max_features=0.25, min_samples_split=4, n_estimators=250,\n",
       "                       n_jobs=-1)"
      ]
     },
     "execution_count": 516,
     "metadata": {},
     "output_type": "execute_result"
    }
   ],
   "source": [
    "grid_search_cv = GridSearchCV(model_RF, params_RF, cv=10,scoring=\"roc_auc\",n_jobs=8)\n",
    "# Achando os melhores hiperparâmetros\n",
    "result = grid_search_cv.fit(X_train_smote, y_train_smote)\n",
    "best_model = result.best_estimator_\n",
    "best_model"
   ]
  },
  {
   "cell_type": "code",
   "execution_count": 518,
   "id": "4216919d",
   "metadata": {},
   "outputs": [
    {
     "data": {
      "image/png": "[encoded data removed]",
      "text/plain": [
       "<Figure size 576x432 with 1 Axes>"
      ]
     },
     "metadata": {
      "needs_background": "light"
     },
     "output_type": "display_data"
    }
   ],
   "source": [
    "y_pred = best_model.predict_proba(X_test)[:,1]\n",
    "fp_r, tp_r, t = metrics.roc_curve(y_test, y_pred)\n",
    "auc = metrics.auc(fp_r, tp_r)\n",
    "plt.figure(figsize=(8, 6))\n",
    "plt.plot(fp_r, tp_r, label=\"AUC = %.2f\" % auc)\n",
    "plt.plot([0,1],[0,1],\"r--\")\n",
    "plt.ylabel(\"TP rate\")\n",
    "plt.xlabel(\"FP rate\")\n",
    "plt.legend(loc=4)\n",
    "plt.title(\"ROC Curve\")\n",
    "plt.show()"
   ]
  },
  {
   "cell_type": "markdown",
   "id": "651e3629",
   "metadata": {},
   "source": [
    "Vamos calcular o ponto de corte que possui o melhor balanço entre verdadeiro positivo e falso positivo."
   ]
  },
  {
   "cell_type": "code",
   "execution_count": 520,
   "id": "f58b9557",
   "metadata": {},
   "outputs": [
    {
     "name": "stdout",
     "output_type": "stream",
     "text": [
      "Threshold value is: 0.23\n"
     ]
    }
   ],
   "source": [
    "t_opt_idx = np.argmax(tp_r - fp_r)\n",
    "t_opt = t[t_opt_idx]\n",
    "print(\"Threshold value is: %.2f\" % t_opt)"
   ]
  },
  {
   "cell_type": "markdown",
   "id": "b6c75359",
   "metadata": {},
   "source": [
    "Utilizando o ponto de corte escolhido para a classificação final, temos:"
   ]
  },
  {
   "cell_type": "code",
   "execution_count": 543,
   "id": "bd040358",
   "metadata": {},
   "outputs": [],
   "source": [
    "predict_probab = best_model.predict_proba(X_test)[:,1]\n",
    "y_pred = np.where(predict_probab > 0.23, 1, 0)"
   ]
  },
  {
   "cell_type": "code",
   "execution_count": 552,
   "id": "91d4449c",
   "metadata": {},
   "outputs": [
    {
     "data": {
      "text/plain": [
       "<sklearn.metrics._plot.confusion_matrix.ConfusionMatrixDisplay at 0x1a4adccca90>"
      ]
     },
     "execution_count": 552,
     "metadata": {},
     "output_type": "execute_result"
    },
    {
     "data": {
      "image/png": "[encoded data removed]",
      "text/plain": [
       "<Figure size 432x288 with 2 Axes>"
      ]
     },
     "metadata": {
      "needs_background": "light"
     },
     "output_type": "display_data"
    }
   ],
   "source": [
    "labels = ['Não Fraude', 'Fraude']\n",
    "cm = confusion_matrix(y_true = y_test, y_pred = y_pred)\n",
    "ConfusionMatrixDisplay(cm, display_labels=labels).plot()"
   ]
  },
  {
   "cell_type": "markdown",
   "id": "50192c48",
   "metadata": {},
   "source": [
    "Embora este seja o melhor cenário para a métrica AUC, que procura o melhor balanço entre verdadeiro positivo e falso positivo, pode não ser o melhot cenário para o contexto de fraude. Sendo assim, deve-se realizar um estudo para determinar o ponto de corte ideal de acordo com as preferências do negócio."
   ]
  },
  {
   "cell_type": "markdown",
   "id": "2ed3835d",
   "metadata": {},
   "source": [
    "# Dector de fraude."
   ]
  },
  {
   "cell_type": "code",
   "execution_count": 127,
   "id": "12df21a8",
   "metadata": {},
   "outputs": [],
   "source": [
    "df_guardar = pd.DataFrame(columns = ['transaction_id','merchant_id','user_id','card_number','transaction_date','transaction_amount','device_id'])\n",
    "\n",
    "def detectar_fraude(transaction_id,merchant_id,user_id,card_number,transaction_date,transaction_amount,device_id):\n",
    "    \n",
    "    data = [[transaction_id,merchant_id,user_id,card_number,transaction_date,transaction_amount,device_id]]\n",
    "    \n",
    "    df = pd.DataFrame(data, columns = ['transaction_id','merchant_id','user_id','card_number',\n",
    "                                       'transaction_date','transaction_amount','device_id'])\n",
    "    \n",
    "    df['transaction_date'] = pd.to_datetime(df['transaction_date'], format='%Y-%m-%dT%H:%M:%S.%f')\n",
    "    df['transaction_date_hour'] = df['transaction_date'].dt.hour\n",
    "    df['transaction_month_day'] = df['transaction_date'].dt.day\n",
    "    df['transaction_week_day'] = df['transaction_date'].dt.dayofweek\n",
    "    \n",
    "\n",
    "    \n",
    "    global df_guardar #Tabela onde serão guardadas as tentativas de compra.\n",
    "    \n",
    "    df_guardar = df_guardar.append(df,ignore_index=True)\n",
    "    \n",
    "    df_guardar['transaction_date'] = pd.to_datetime(df_guardar['transaction_date'], format='%Y-%m-%dT%H:%M:%S.%f')\n",
    "    \n",
    "    df_guardar['user_id'] = pd.to_numeric(df_guardar['user_id'])\n",
    "    df_guardar['merchant_id'] = pd.to_numeric(df_guardar['merchant_id'])\n",
    "    df_guardar['device_id'] = pd.to_numeric(df_guardar['device_id'])\n",
    "    df_guardar['transaction_id'] = pd.to_numeric(df_guardar['transaction_id'])\n",
    "    \n",
    "    \n",
    "    now = datetime.now()\n",
    "    current_time = now.strftime(\"%Y-%m-%dT%H:%M:%S.%f\")\n",
    "    current_time = pd.to_datetime(current_time, format='%Y-%m-%dT%H:%M:%S.%f')\n",
    "    current_time_less_1 = current_time - timedelta(hours=1)\n",
    "    \n",
    "    #Based-Rule:\n",
    "    if user_id in dados_true['user_id'].values:\n",
    "        print(\"'transaction_id' :\", transaction_id,\n",
    "                \" \\n'recommendation' : Negado pois usuário já possui uma transação fraude anterior.\")\n",
    "        \n",
    "    elif card_number in dados_true['card_number'].values:\n",
    "        print(\"'transaction_id' :\", transaction_id,\n",
    "                \" \\n'recommendation' : Negado pois cartão já foi utilizado em uma transação fraude anterior.\")\n",
    "        \n",
    "    elif device_id in dados_true['device_id'].values:\n",
    "        print(\"'transaction_id' :\", transaction_id,\n",
    "                \" \\n'recommendation' : Negado pois o dispositivo utilizado já foi utilizado em uma transação fraude anterior.\")     \n",
    "    \n",
    "    elif (sum((df_guardar.transaction_date < current_time) & (df_guardar.transaction_date > current_time_less_1) & (df_guardar.user_id == user_id)) !=0):\n",
    "        \n",
    "        if df_guardar.loc[(df_guardar.transaction_date < current_time) & (df_guardar.transaction_date > current_time_less_1) & (df_guardar.user_id == user_id),'user_id'].value_counts()[user_id] > 5:\n",
    "            print(\"'transaction_id' :\", transaction_id,\n",
    "                \" \\n'recommendation' : Negado pois o usuário tentou comprar mais de 5 vezes consecutivas na última hora.\")\n",
    "        else:\n",
    "\n",
    "            model = RandomForestClassifier(max_features=0.25, min_samples_split=4, n_estimators=250,n_jobs=-1)\n",
    "            model.fit(X_train_smote, y_train_smote)\n",
    "            predict_probabilities = model.predict_proba(np.array(df[['transaction_amount','transaction_date_hour',\n",
    "                                                                     'transaction_week_day','transaction_month_day']]))[:,1]       \n",
    "            y_pred = np.where(predict_probabilities > 0.23, 1, 0)\n",
    "\n",
    "            if int(y_pred) == 1:\n",
    "                print(\"'transaction_id' :\", transaction_id,\n",
    "                    \"\\n'recommendation' : Negado pelo modelo de Machine Learning.\")\n",
    "            else:\n",
    "                print(\"'transaction_id' :\", transaction_id,\n",
    "                    \" \\n'recommendation' : Aprovado pelo modelo de Machine Learning.\")"
   ]
  },
  {
   "cell_type": "markdown",
   "id": "27b82343",
   "metadata": {},
   "source": [
    "## Testando detector"
   ]
  },
  {
   "cell_type": "code",
   "execution_count": 52,
   "id": "1e28eae3",
   "metadata": {},
   "outputs": [
    {
     "data": {
      "text/html": [
       "<div>\n",
       "<style scoped>\n",
       "    .dataframe tbody tr th:only-of-type {\n",
       "        vertical-align: middle;\n",
       "    }\n",
       "\n",
       "    .dataframe tbody tr th {\n",
       "        vertical-align: top;\n",
       "    }\n",
       "\n",
       "    .dataframe thead th {\n",
       "        text-align: right;\n",
       "    }\n",
       "</style>\n",
       "<table border=\"1\" class=\"dataframe\">\n",
       "  <thead>\n",
       "    <tr style=\"text-align: right;\">\n",
       "      <th></th>\n",
       "      <th>merchant_id</th>\n",
       "      <th>user_id</th>\n",
       "      <th>card_number</th>\n",
       "      <th>transaction_date</th>\n",
       "      <th>transaction_amount</th>\n",
       "      <th>device_id</th>\n",
       "      <th>has_cbk</th>\n",
       "      <th>transaction_date_hour</th>\n",
       "      <th>transaction_month_day</th>\n",
       "      <th>transaction_week_day</th>\n",
       "    </tr>\n",
       "  </thead>\n",
       "  <tbody>\n",
       "    <tr>\n",
       "      <th>1</th>\n",
       "      <td>92895</td>\n",
       "      <td>2708</td>\n",
       "      <td>444456******4210</td>\n",
       "      <td>2019-12-01 22:45:37.873639</td>\n",
       "      <td>734.87</td>\n",
       "      <td>497105</td>\n",
       "      <td>True</td>\n",
       "      <td>22</td>\n",
       "      <td>1</td>\n",
       "      <td>6</td>\n",
       "    </tr>\n",
       "    <tr>\n",
       "      <th>3</th>\n",
       "      <td>68657</td>\n",
       "      <td>69758</td>\n",
       "      <td>464296******3991</td>\n",
       "      <td>2019-12-01 21:59:19.797129</td>\n",
       "      <td>2556.13</td>\n",
       "      <td>0</td>\n",
       "      <td>True</td>\n",
       "      <td>21</td>\n",
       "      <td>1</td>\n",
       "      <td>6</td>\n",
       "    </tr>\n",
       "    <tr>\n",
       "      <th>7</th>\n",
       "      <td>56107</td>\n",
       "      <td>81152</td>\n",
       "      <td>650516******9201</td>\n",
       "      <td>2019-12-01 21:24:05.608374</td>\n",
       "      <td>188.68</td>\n",
       "      <td>486</td>\n",
       "      <td>True</td>\n",
       "      <td>21</td>\n",
       "      <td>1</td>\n",
       "      <td>6</td>\n",
       "    </tr>\n",
       "    <tr>\n",
       "      <th>8</th>\n",
       "      <td>56107</td>\n",
       "      <td>81152</td>\n",
       "      <td>650516******9201</td>\n",
       "      <td>2019-12-01 21:13:21.529999</td>\n",
       "      <td>352.77</td>\n",
       "      <td>486</td>\n",
       "      <td>True</td>\n",
       "      <td>21</td>\n",
       "      <td>1</td>\n",
       "      <td>6</td>\n",
       "    </tr>\n",
       "    <tr>\n",
       "      <th>9</th>\n",
       "      <td>56107</td>\n",
       "      <td>81152</td>\n",
       "      <td>650516******9201</td>\n",
       "      <td>2019-12-01 21:04:55.066909</td>\n",
       "      <td>345.68</td>\n",
       "      <td>486</td>\n",
       "      <td>True</td>\n",
       "      <td>21</td>\n",
       "      <td>1</td>\n",
       "      <td>6</td>\n",
       "    </tr>\n",
       "    <tr>\n",
       "      <th>...</th>\n",
       "      <td>...</td>\n",
       "      <td>...</td>\n",
       "      <td>...</td>\n",
       "      <td>...</td>\n",
       "      <td>...</td>\n",
       "      <td>...</td>\n",
       "      <td>...</td>\n",
       "      <td>...</td>\n",
       "      <td>...</td>\n",
       "      <td>...</td>\n",
       "    </tr>\n",
       "    <tr>\n",
       "      <th>3157</th>\n",
       "      <td>41354</td>\n",
       "      <td>19820</td>\n",
       "      <td>606282******6581</td>\n",
       "      <td>2019-11-02 18:04:22.088172</td>\n",
       "      <td>4028.55</td>\n",
       "      <td>0</td>\n",
       "      <td>True</td>\n",
       "      <td>18</td>\n",
       "      <td>2</td>\n",
       "      <td>5</td>\n",
       "    </tr>\n",
       "    <tr>\n",
       "      <th>3165</th>\n",
       "      <td>41354</td>\n",
       "      <td>19820</td>\n",
       "      <td>606282******6581</td>\n",
       "      <td>2019-11-02 16:33:21.333131</td>\n",
       "      <td>4031.00</td>\n",
       "      <td>0</td>\n",
       "      <td>True</td>\n",
       "      <td>16</td>\n",
       "      <td>2</td>\n",
       "      <td>5</td>\n",
       "    </tr>\n",
       "    <tr>\n",
       "      <th>3178</th>\n",
       "      <td>16266</td>\n",
       "      <td>96495</td>\n",
       "      <td>522840******2045</td>\n",
       "      <td>2019-11-01 22:10:49.517024</td>\n",
       "      <td>762.18</td>\n",
       "      <td>0</td>\n",
       "      <td>True</td>\n",
       "      <td>22</td>\n",
       "      <td>1</td>\n",
       "      <td>4</td>\n",
       "    </tr>\n",
       "    <tr>\n",
       "      <th>3180</th>\n",
       "      <td>16266</td>\n",
       "      <td>96495</td>\n",
       "      <td>552305******4782</td>\n",
       "      <td>2019-11-01 20:54:04.014855</td>\n",
       "      <td>2936.66</td>\n",
       "      <td>0</td>\n",
       "      <td>True</td>\n",
       "      <td>20</td>\n",
       "      <td>1</td>\n",
       "      <td>4</td>\n",
       "    </tr>\n",
       "    <tr>\n",
       "      <th>3185</th>\n",
       "      <td>77570</td>\n",
       "      <td>75889</td>\n",
       "      <td>527496******2850</td>\n",
       "      <td>2019-11-01 19:19:50.609011</td>\n",
       "      <td>1726.65</td>\n",
       "      <td>0</td>\n",
       "      <td>True</td>\n",
       "      <td>19</td>\n",
       "      <td>1</td>\n",
       "      <td>4</td>\n",
       "    </tr>\n",
       "  </tbody>\n",
       "</table>\n",
       "<p>391 rows × 10 columns</p>\n",
       "</div>"
      ],
      "text/plain": [
       "      merchant_id  user_id       card_number           transaction_date  \\\n",
       "1           92895     2708  444456******4210 2019-12-01 22:45:37.873639   \n",
       "3           68657    69758  464296******3991 2019-12-01 21:59:19.797129   \n",
       "7           56107    81152  650516******9201 2019-12-01 21:24:05.608374   \n",
       "8           56107    81152  650516******9201 2019-12-01 21:13:21.529999   \n",
       "9           56107    81152  650516******9201 2019-12-01 21:04:55.066909   \n",
       "...           ...      ...               ...                        ...   \n",
       "3157        41354    19820  606282******6581 2019-11-02 18:04:22.088172   \n",
       "3165        41354    19820  606282******6581 2019-11-02 16:33:21.333131   \n",
       "3178        16266    96495  522840******2045 2019-11-01 22:10:49.517024   \n",
       "3180        16266    96495  552305******4782 2019-11-01 20:54:04.014855   \n",
       "3185        77570    75889  527496******2850 2019-11-01 19:19:50.609011   \n",
       "\n",
       "      transaction_amount  device_id  has_cbk  transaction_date_hour  \\\n",
       "1                 734.87     497105     True                     22   \n",
       "3                2556.13          0     True                     21   \n",
       "7                 188.68        486     True                     21   \n",
       "8                 352.77        486     True                     21   \n",
       "9                 345.68        486     True                     21   \n",
       "...                  ...        ...      ...                    ...   \n",
       "3157             4028.55          0     True                     18   \n",
       "3165             4031.00          0     True                     16   \n",
       "3178              762.18          0     True                     22   \n",
       "3180             2936.66          0     True                     20   \n",
       "3185             1726.65          0     True                     19   \n",
       "\n",
       "      transaction_month_day  transaction_week_day  \n",
       "1                         1                     6  \n",
       "3                         1                     6  \n",
       "7                         1                     6  \n",
       "8                         1                     6  \n",
       "9                         1                     6  \n",
       "...                     ...                   ...  \n",
       "3157                      2                     5  \n",
       "3165                      2                     5  \n",
       "3178                      1                     4  \n",
       "3180                      1                     4  \n",
       "3185                      1                     4  \n",
       "\n",
       "[391 rows x 10 columns]"
      ]
     },
     "execution_count": 52,
     "metadata": {},
     "output_type": "execute_result"
    }
   ],
   "source": [
    "dados_true"
   ]
  },
  {
   "cell_type": "markdown",
   "id": "00ac640a",
   "metadata": {},
   "source": [
    "### Usuário com transação fraude anterior."
   ]
  },
  {
   "cell_type": "code",
   "execution_count": 129,
   "id": "9a8f8b15",
   "metadata": {},
   "outputs": [
    {
     "name": "stdout",
     "output_type": "stream",
     "text": [
      "'transaction_id' : 9289225  \n",
      "'recommendation' : Negado pois usuário já possui uma transação fraude anterior.\n"
     ]
    }
   ],
   "source": [
    "detectar_fraude(transaction_id=9289225,merchant_id=92895 ,user_id=2708,card_number='44456******4210',transaction_date='2021-12-07T08:50:50.812632',transaction_amount=20,device_id=47105)"
   ]
  },
  {
   "cell_type": "markdown",
   "id": "86192535",
   "metadata": {},
   "source": [
    "### Celular com transação fraude anterior."
   ]
  },
  {
   "cell_type": "code",
   "execution_count": 130,
   "id": "272e858a",
   "metadata": {},
   "outputs": [
    {
     "name": "stdout",
     "output_type": "stream",
     "text": [
      "'transaction_id' : 9289225  \n",
      "'recommendation' : Negado pois o dispositivo utilizado já foi utilizado em uma transação fraude anterior.\n"
     ]
    }
   ],
   "source": [
    "detectar_fraude(transaction_id=9289225,merchant_id=92895 ,user_id=27208,card_number='464296******3491',transaction_date='2021-12-07T08:50:50.812632',transaction_amount=20,device_id=486)"
   ]
  },
  {
   "cell_type": "markdown",
   "id": "de79dbd6",
   "metadata": {},
   "source": [
    "### Cartão com transação fraude anterior."
   ]
  },
  {
   "cell_type": "code",
   "execution_count": 110,
   "id": "b7ca76e0",
   "metadata": {},
   "outputs": [
    {
     "name": "stdout",
     "output_type": "stream",
     "text": [
      "'transaction_id' : 9289225  \n",
      "'recommendation' : Negado pois cartão já foi utilizado em uma transação fraude anterior.\n"
     ]
    }
   ],
   "source": [
    "detectar_fraude(transaction_id=9289225,merchant_id=92895 ,user_id=27208,card_number='444456******4210',transaction_date='2021-12-07T08:50:50.812632',transaction_amount=20,device_id=4896)"
   ]
  },
  {
   "cell_type": "markdown",
   "id": "04ed038b",
   "metadata": {},
   "source": [
    "### Multiplas tentativas"
   ]
  },
  {
   "cell_type": "code",
   "execution_count": 131,
   "id": "8844ae7c",
   "metadata": {},
   "outputs": [
    {
     "name": "stdout",
     "output_type": "stream",
     "text": [
      "Tentativa  1\n",
      "'transaction_id' : 9289225  \n",
      "'recommendation' : Aprovado pelo modelo de Machine Learning.\n",
      "Tentativa  2\n",
      "'transaction_id' : 9289225  \n",
      "'recommendation' : Aprovado pelo modelo de Machine Learning.\n",
      "Tentativa  3\n",
      "'transaction_id' : 9289225  \n",
      "'recommendation' : Aprovado pelo modelo de Machine Learning.\n",
      "Tentativa  4\n",
      "'transaction_id' : 9289225  \n",
      "'recommendation' : Aprovado pelo modelo de Machine Learning.\n",
      "Tentativa  5\n",
      "'transaction_id' : 9289225  \n",
      "'recommendation' : Aprovado pelo modelo de Machine Learning.\n",
      "Tentativa  6\n",
      "'transaction_id' : 9289225  \n",
      "'recommendation' : Negado pois o usuário tentou comprar mais de 5 vezes consecutivas na última hora.\n"
     ]
    }
   ],
   "source": [
    "c = 0\n",
    "for i in range(1,7):\n",
    "    c=c+1\n",
    "    print('Tentativa ',c)\n",
    "    detectar_fraude(transaction_id=9289225,merchant_id=92895 ,user_id=708,card_number='44445******4210',transaction_date='2021-12-07T13:20:50.812632',transaction_amount=20,device_id=4896)\n"
   ]
  },
  {
   "cell_type": "markdown",
   "id": "e1bfe09b",
   "metadata": {},
   "source": [
    "### Machine Learning"
   ]
  },
  {
   "cell_type": "code",
   "execution_count": 143,
   "id": "b273a5cc",
   "metadata": {},
   "outputs": [
    {
     "name": "stdout",
     "output_type": "stream",
     "text": [
      "'transaction_id' : 9289225  \n",
      "'recommendation' : Aprovado pelo modelo de Machine Learning.\n"
     ]
    }
   ],
   "source": [
    "detectar_fraude(transaction_id=9289225,merchant_id=92895 ,user_id=78908,card_number='44445******4210',transaction_date='2021-12-07T13:20:50.812632',transaction_amount=20,device_id=4896)"
   ]
  }
 ],
 "metadata": {
  "kernelspec": {
   "display_name": "Python 3",
   "language": "python",
   "name": "python3"
  },
  "language_info": {
   "codemirror_mode": {
    "name": "ipython",
    "version": 3
   },
   "file_extension": ".py",
   "mimetype": "text/x-python",
   "name": "python",
   "nbconvert_exporter": "python",
   "pygments_lexer": "ipython3",
   "version": "3.8.8"
  }
 },
 "nbformat": 4,
 "nbformat_minor": 5
}
